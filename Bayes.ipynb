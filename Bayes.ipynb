{
 "cells": [
  {
   "cell_type": "code",
   "execution_count": null,
   "metadata": {},
   "outputs": [],
   "source": [
    "import numpy as np\n",
    "import scipy.stats as st\n",
    "import matplotlib.pyplot as plt\n",
    "%matplotlib inline\n",
    "\n",
    "posterior = lambda n, h, q: (n+1) * st.binom(n, q).pmf(h)\n",
    "\n",
    "n = 100\n",
    "h = 61\n",
    "q = np.linspace(0., 1., 1000)\n",
    "d = posterior(n, h, q)\n",
    "plt.figure(figsize=(5,3));\n",
    "plt.plot(q, d, '-k');\n",
    "plt.xlabel('q parameter');\n",
    "plt.ylabel('Posterior distribution');\n",
    "plt.ylim(0, d.max()+1);"
   ]
  },
  {
   "cell_type": "code",
   "execution_count": null,
   "metadata": {},
   "outputs": [],
   "source": [
    "%lsmagic"
   ]
  },
  {
   "cell_type": "markdown",
   "metadata": {},
   "source": [
    "## New paragraph\n",
    "This is a *rich* **text** with [links](http://jupyter.org), equations:\n",
    "$$\\hat{f}(\\xi) = \\int_{-\\infty}^{+\\infty} f(x) \\, \\exp \\left(-2i\\pi x \\xi \\right) dx$$\n",
    "\n",
    "code with syntax highlighting:\n",
    "```python\n",
    "print(\"Hello, world!\")\n",
    "```\n",
    "\n",
    "and images:\n",
    "![This is an image](http://jupyter.org/assets/nav_logo.svg)\n"
   ]
  },
  {
   "cell_type": "code",
   "execution_count": null,
   "metadata": {},
   "outputs": [],
   "source": [
    "from IPython.display import HTML, SVG, YouTubeVideo"
   ]
  },
  {
   "cell_type": "code",
   "execution_count": null,
   "metadata": {},
   "outputs": [],
   "source": [
    "YouTubeVideo('VQBZ2MqWBZI')"
   ]
  },
  {
   "cell_type": "code",
   "execution_count": null,
   "metadata": {},
   "outputs": [],
   "source": [
    "import pandas as pd"
   ]
  },
  {
   "cell_type": "code",
   "execution_count": null,
   "metadata": {},
   "outputs": [],
   "source": [
    "from IPython.display import set_matplotlib_formats\n",
    "set_matplotlib_formats('retina')"
   ]
  },
  {
   "cell_type": "code",
   "execution_count": null,
   "metadata": {},
   "outputs": [],
   "source": [
    "import numpy as np\n",
    "import scipy.stats as st\n",
    "import matplotlib.pyplot as plt\n",
    "%matplotlib inline\n",
    "\n",
    "posterior = lambda n, h, q: (n+1) * st.binom(n, q).pmf(h)\n",
    "\n",
    "n = 100\n",
    "h = 61\n",
    "q = np.linspace(0., 1., 1000)\n",
    "d = posterior(n, h, q)\n",
    "plt.figure(figsize=(5,3));\n",
    "plt.plot(q, d, '-k');\n",
    "plt.xlabel('q parameter');\n",
    "plt.ylabel('Posterior distribution');\n",
    "plt.ylim(0, d.max()+1);"
   ]
  },
  {
   "cell_type": "markdown",
   "metadata": {},
   "source": [
    "If we list all the natural numbers below 10 that are multiples of 3 or 5, we get 3, 5, 6 and 9. The sum of these multiples is 23. Find the sum of all the multiples of 3 or 5 below 1000."
   ]
  },
  {
   "cell_type": "code",
   "execution_count": null,
   "metadata": {},
   "outputs": [],
   "source": [
    "def Euler_01():\n",
    "    x = 0\n",
    "    for i in range (0, 1000):\n",
    "        if (i % 5 == 0) or (i % 3 == 0) :\n",
    "            x = x + i \n",
    "    print(x)\n",
    "Euler_01()"
   ]
  },
  {
   "cell_type": "markdown",
   "metadata": {},
   "source": [
    "To get a more efficient solution you could also calculate the sum of the numbers less\n",
    "than1000 that are divisible by 3, plus the sum of the numbers less than1000 that are divisible\n",
    "by 5. But as you have summed numbers divisible by 15 twice you would have to subtract the\n",
    "sum of the numbers divisible by 15."
   ]
  },
  {
   "cell_type": "code",
   "execution_count": null,
   "metadata": {},
   "outputs": [],
   "source": [
    "def sum_div_by_n(n):\n",
    "    x = 0\n",
    "    for i in range (0, 1000):\n",
    "        if (i % n == 0):\n",
    "            x = x + i\n",
    "    return x\n",
    "\n",
    "print(sum_div_by_n(3) + sum_div_by_n(5) - sum_div_by_n(15))\n",
    "            \n"
   ]
  },
  {
   "cell_type": "markdown",
   "metadata": {},
   "source": [
    "So using n = 3 as an example we would have to add: $$3+6+9+12+...+999=3∗(1+2+3+4+...+333)$$ <br> and for n = 5 we get: $$5+10+15+...+995=5∗(1+2+...+199)$$"
   ]
  },
  {
   "cell_type": "markdown",
   "metadata": {},
   "source": [
    "Now note that $199=\\frac{995}{5}$ but it is also $\\frac{995}{5}$ rounded down to the nearest integer. In many programming languages there exists a seperate operator, in python the // 'floor division' operator returns the integral part of the quotient."
   ]
  },
  {
   "cell_type": "markdown",
   "metadata": {},
   "source": [
    "If we now note that $$1+2+3+...+p=\\frac{p*(p+1)}{2}$$ our program becomes:"
   ]
  },
  {
   "cell_type": "code",
   "execution_count": null,
   "metadata": {},
   "outputs": [],
   "source": [
    "target=999\n",
    "def sum_div_by_n(n):\n",
    "    p = target // n\n",
    "    return n * (p * (p+1)) // 2\n",
    "\n",
    "print(sum_div_by_n(3) + sum_div_by_n(5) - sum_div_by_n(15))"
   ]
  },
  {
   "cell_type": "markdown",
   "metadata": {},
   "source": [
    "Each new term in the Fibonacci sequence is generated by adding the previous two terms. By starting with 1 and 2, the first 10 terms will be:\n",
    "\n",
    "1, 2, 3, 5, 8, 13, 21, 34, 55, 89, ...\n",
    "\n",
    "By considering the terms in the Fibonacci sequence whose values do not exceed four million, find the sum of the even-valued terms."
   ]
  },
  {
   "cell_type": "code",
   "execution_count": null,
   "metadata": {},
   "outputs": [],
   "source": [
    "target = 4000000\n",
    "def fib(target):\n",
    "    for i in range (1, target):\n",
    "        x = i\n",
    "        y = i + 1\n",
    "    "
   ]
  }
 ],
 "metadata": {
  "kernelspec": {
   "display_name": "Python 3",
   "language": "python",
   "name": "python3"
  },
  "language_info": {
   "codemirror_mode": {
    "name": "ipython",
    "version": 3
   },
   "file_extension": ".py",
   "mimetype": "text/x-python",
   "name": "python",
   "nbconvert_exporter": "python",
   "pygments_lexer": "ipython3",
   "version": "3.7.3"
  }
 },
 "nbformat": 4,
 "nbformat_minor": 2
}
